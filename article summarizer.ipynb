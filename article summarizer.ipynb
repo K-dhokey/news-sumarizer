{
 "cells": [
  {
   "cell_type": "code",
   "execution_count": 76,
   "id": "a39b365e",
   "metadata": {},
   "outputs": [
    {
     "name": "stderr",
     "output_type": "stream",
     "text": [
      "<>:40: SyntaxWarning: 'str' object is not callable; perhaps you missed a comma?\n",
      "<>:40: SyntaxWarning: 'str' object is not callable; perhaps you missed a comma?\n",
      "/tmp/ipykernel_5302/1735292213.py:40: SyntaxWarning: 'str' object is not callable; perhaps you missed a comma?\n",
      "  sentiment.insert('1.0'(f'Polarity:{analysis.polarity},Sentiment:{\"positive\" if analysis.polarity > 0 else \"negative\" if analysis.polarity <0 else \"neutral\"}'))\n"
     ]
    }
   ],
   "source": [
    "import numpy as np\n",
    "import pandas as pd\n",
    "from sklearn.model_selection import train_test_split #spliting data into 80% training and 20% testing data \n",
    "import tkinter as tk\n",
    "import nltk \n",
    "from textblob import TextBlob\n",
    "from newspaper import Article\n",
    "\n",
    "# to get summarization of an article pass an url\n",
    "def summarize():\n",
    "    url = utext.get(\"1.0\",\"end\").strip()\n",
    "    article = Article(url)\n",
    "    article.download()\n",
    "    article.parse()\n",
    "    article.nlp()\n",
    "\n",
    "    title.config(state='normal')\n",
    "    author.config(state='normal')\n",
    "    publication.config(state='normal')\n",
    "    summary.config(state='normal')\n",
    "    sentiment.config(state='normal')\n",
    "\n",
    "    title.delete('1.0','end')\n",
    "    title.insert('1.0',article.title)\n",
    "\n",
    "    Author.delete('1.0','end')\n",
    "    Author.insert('1.0',article.authors)\n",
    "\n",
    "\n",
    "    Publication.delete('1.0','end')\n",
    "    Publication.insert('1.0',article.publish_date)\n",
    "\n",
    "    Summary.delete('1.0','end')\n",
    "    Summary.insert('1.0',article.title)\n",
    "\n",
    "#start with sentiment analysis part by converting article into textblob\n",
    "    analysis = TextBlob(article.text)\n",
    "    sentiment.delete('1.0','end')\n",
    "#print(analysis.polarity)\n",
    "    sentiment.insert('1.0'(f'Polarity:{analysis.polarity},Sentiment:{\"positive\" if analysis.polarity > 0 else \"negative\" if analysis.polarity <0 else \"neutral\"}'))\n",
    "\n",
    "    title.config(state='disabled')\n",
    "    author.config(state='disabled')\n",
    "    publication.config(state='disabled')\n",
    "    summary.config(state='disabled')\n",
    "    sentiment.config(state='disabled')\n",
    "                 \n",
    "    print(f'Title:{article.title}')\n",
    "    print(f'Authors:{article.authors}')                \n",
    "    print(f'Publication:{article.publish_date}') \n",
    "    print(f'Summary:{article.summary}')  \n",
    "                 \n",
    "\n",
    "root = tk.Tk()\n",
    "\n",
    "root.title('News Summarizer')\n",
    "\n",
    "root.geometry(\"1200x600\")\n",
    "\n",
    "\n",
    "tlabel=tk.Label(root,text=\"title\")\n",
    "tlabel.pack()\n",
    "title = tk.Text(root,height=1,width=140)\n",
    "title.config(state='disabled',bg='#dddddd')\n",
    "title.pack()\n",
    "\n",
    "alabel=tk.Label(root,text='author')\n",
    "alabel.pack()\n",
    "\n",
    "author=tk.Text(root,height=1,width=140)\n",
    "author.config(state='disabled',bg='#dddddd')\n",
    "author.pack()\n",
    "\n",
    "plabel=tk.Label(root,text='Publication Date')\n",
    "plabel.pack()\n",
    "\n",
    "publication=tk.Text(root,height=1,width=140)\n",
    "publication.config(state='disabled',bg='#dddddd')\n",
    "publication.pack()\n",
    "\n",
    "slabel=tk.Label(root,text='Summary')\n",
    "slabel.pack()\n",
    "\n",
    "summary=tk.Text(root,height=20,width=140)\n",
    "summary.config(state='disabled',bg='#dddddd')\n",
    "summary.pack()\n",
    "\n",
    "selabel=tk.Label(root,text='Sentiment Analysis')\n",
    "selabel.pack()\n",
    "\n",
    "Sentiment=tk.Text(root,height=1,width=140)\n",
    "Sentiment.config(state='disabled',bg='#dddddd')\n",
    "Sentiment.pack()\n",
    "\n",
    "ulabel=tk.Label(root,text='URL')\n",
    "ulabel.pack()\n",
    "\n",
    "utext=tk.Text(root,height=1,width=140)\n",
    "utext.pack()\n",
    "\n",
    "btn=tk.Button(root,text='Summarize')\n",
    "btn.pack()\n",
    "\n",
    "root.mainloop()\n",
    "\n",
    "                 "
   ]
  },
  {
   "cell_type": "code",
   "execution_count": null,
   "id": "a97c31fa",
   "metadata": {},
   "outputs": [],
   "source": [
    "#pip install nltk\n"
   ]
  },
  {
   "cell_type": "code",
   "execution_count": null,
   "id": "206e642d",
   "metadata": {},
   "outputs": [],
   "source": [
    "#pip install textblob\n"
   ]
  },
  {
   "cell_type": "code",
   "execution_count": null,
   "id": "79c9c584",
   "metadata": {},
   "outputs": [],
   "source": [
    "#pip install newspaper3k"
   ]
  },
  {
   "cell_type": "code",
   "execution_count": null,
   "id": "69a2a831",
   "metadata": {},
   "outputs": [],
   "source": [
    "# to get summarization of an article pass an url\n",
    "#url = utext.get(\"1.0\",\"end\").strip()\n"
   ]
  },
  {
   "cell_type": "raw",
   "id": "47fd1c0b",
   "metadata": {},
   "source": []
  },
  {
   "cell_type": "code",
   "execution_count": null,
   "id": "8ea376fc",
   "metadata": {},
   "outputs": [],
   "source": [
    "#article = Article(url)"
   ]
  },
  {
   "cell_type": "code",
   "execution_count": null,
   "id": "c15e7159",
   "metadata": {},
   "outputs": [],
   "source": [
    "#article.download()"
   ]
  },
  {
   "cell_type": "code",
   "execution_count": null,
   "id": "83d85b52",
   "metadata": {},
   "outputs": [],
   "source": [
    "#article.parse()"
   ]
  },
  {
   "cell_type": "code",
   "execution_count": null,
   "id": "e45e6703",
   "metadata": {
    "scrolled": true
   },
   "outputs": [],
   "source": [
    "article.nlp()\n",
    "title.config(state='normal')\n",
    "author.config(state='normal')\n",
    "publication.config(state='normal')\n",
    "summary.config(state='normal')\n",
    "sentiment.config(state='normal')"
   ]
  },
  {
   "cell_type": "code",
   "execution_count": null,
   "id": "c4db4671",
   "metadata": {},
   "outputs": [],
   "source": [
    "title.delete('1.0','end')\n",
    "title.insert('1.0',article.title)\n",
    "\n",
    "Author.delete('1.0','end')\n",
    "Author.insert('1.0',article.authors)\n",
    "\n",
    "Publication Date.delete('1.0','end')\n",
    "Publication Date.insert('1.0',article.publish_date)\n",
    "\n",
    "Summary.delete('1.0','end')\n",
    "Summary.insert('1.0',article.title)\n",
    "\n",
    "\n"
   ]
  },
  {
   "cell_type": "code",
   "execution_count": null,
   "id": "5dd7a1ab",
   "metadata": {},
   "outputs": [],
   "source": [
    "#start with sentiment analysis part by converting article into textblob\n",
    "analysis = TextBlob(article.text)\n",
    "sentiment.delete('1.0','end')\n",
    "#print(analysis.polarity)\n",
    "sentiment.insert('1.0'(f'Polarity:{analysis.polarity},Sentiment:{\"positive\" if analysis.polarity > 0 else \"negative\" if analysis.polarity <0 else \"neutral\"}')"
   ]
  },
  {
   "cell_type": "code",
   "execution_count": null,
   "id": "c00b9a30",
   "metadata": {},
   "outputs": [],
   "source": [
    "title.config(state='disabled')\n",
    "author.config(state='disabled')\n",
    "publication.config(state='disabled')\n",
    "summary.config(state='disabled')\n",
    "sentiment.config(state='disabled')"
   ]
  },
  {
   "cell_type": "code",
   "execution_count": null,
   "id": "0fd77985",
   "metadata": {},
   "outputs": [],
   "source": [
    "print(f'Title:{article.title}')"
   ]
  },
  {
   "cell_type": "code",
   "execution_count": null,
   "id": "8a38fbd9",
   "metadata": {},
   "outputs": [],
   "source": [
    "print(f'Authors:{article.authors}')"
   ]
  },
  {
   "cell_type": "code",
   "execution_count": null,
   "id": "258640e5",
   "metadata": {},
   "outputs": [],
   "source": [
    "print(f'Publication Date:{article.publish_date}')"
   ]
  },
  {
   "cell_type": "code",
   "execution_count": null,
   "id": "9dd0681e",
   "metadata": {},
   "outputs": [],
   "source": [
    "print(f'Summary:{article.summary}')"
   ]
  },
  {
   "cell_type": "code",
   "execution_count": null,
   "id": "92ccb7b3",
   "metadata": {},
   "outputs": [],
   "source": [
    "#start with sentiment analysis part by converting article into textblob\n",
    "#analysis = TextBlob(article.text)"
   ]
  },
  {
   "cell_type": "code",
   "execution_count": null,
   "id": "11c7fb9c",
   "metadata": {},
   "outputs": [],
   "source": [
    "#print(analysis.polarity)"
   ]
  },
  {
   "cell_type": "code",
   "execution_count": null,
   "id": "afd6db97",
   "metadata": {},
   "outputs": [],
   "source": [
    "#print(f'sentiment:{\"positive\" if analysis.polarity > 0 else \"negative\" if analysis.polarity <0 else \"neutral\"}')"
   ]
  },
  {
   "cell_type": "code",
   "execution_count": null,
   "id": "da4331c1",
   "metadata": {},
   "outputs": [],
   "source": [
    "#root = tk.Tk()"
   ]
  },
  {
   "cell_type": "code",
   "execution_count": null,
   "id": "ab713d73",
   "metadata": {},
   "outputs": [],
   "source": [
    "#root.title('News Summarizer')"
   ]
  },
  {
   "cell_type": "code",
   "execution_count": null,
   "id": "e22cb95a",
   "metadata": {},
   "outputs": [],
   "source": [
    "#root.geometry(\"1200x600\")"
   ]
  },
  {
   "cell_type": "code",
   "execution_count": null,
   "id": "5242ad47",
   "metadata": {},
   "outputs": [],
   "source": [
    "#root.mainloop()"
   ]
  },
  {
   "cell_type": "code",
   "execution_count": null,
   "id": "24d0e275",
   "metadata": {},
   "outputs": [],
   "source": [
    "root = tk.Tk()\n",
    "\n",
    "root.title('News Summarizer')\n",
    "\n",
    "root.geometry(\"1200x600\")\n",
    "\n",
    "\n",
    "tlabel=tk.Label(root,text=\"title\")\n",
    "tlabel.pack()\n",
    "title = tk.Text(root,height=1,width=140)\n",
    "title.config(state='disabled',bg='#dddddd')\n",
    "title.pack()\n",
    "\n",
    "alabel=tk.Label(root,text='author')\n",
    "alabel.pack()\n",
    "\n",
    "author=tk.Text(root,height=1,width=140)\n",
    "author.config(state='disabled',bg='#dddddd')\n",
    "author.pack()\n",
    "\n",
    "plabel=tk.Label(root,text='Publication Date')\n",
    "plabel.pack()\n",
    "\n",
    "publication=tk.Text(root,height=1,width=140)\n",
    "publication.config(state='disabled',bg='#dddddd')\n",
    "publication.pack()\n",
    "\n",
    "slabel=tk.Label(root,text='Summary')\n",
    "slabel.pack()\n",
    "\n",
    "summary=tk.Text(root,height=20,width=140)\n",
    "summary.config(state='disabled',bg='#dddddd')\n",
    "summary.pack()\n",
    "\n",
    "selabel=tk.Label(root,text='Sentiment Analysis')\n",
    "selabel.pack()\n",
    "\n",
    "Sentiment=tk.Text(root,height=1,width=140)\n",
    "Sentiment.config(state='disabled',bg='#dddddd')\n",
    "Sentiment.pack()\n",
    "\n",
    "ulabel=tk.Label(root,text='URL')\n",
    "ulabel.pack()\n",
    "\n",
    "utext=tk.Text(root,height=1,width=140)\n",
    "utext.pack()\n",
    "\n",
    "btn=tk.Button(root,text='Summarize')\n",
    "btn.pack()\n",
    "\n",
    "root.mainloop()"
   ]
  },
  {
   "cell_type": "code",
   "execution_count": null,
   "id": "afa9948e",
   "metadata": {},
   "outputs": [],
   "source": [
    "title.config(state='disabled')\n",
    "author.config(state='disabled')\n",
    "publication.config(state='disabled')\n",
    "summary.config(state='disabled')\n",
    "sentiment.config(state='disabled')"
   ]
  },
  {
   "cell_type": "code",
   "execution_count": null,
   "id": "d73ee91e",
   "metadata": {},
   "outputs": [],
   "source": []
  }
 ],
 "metadata": {
  "kernelspec": {
   "display_name": "Python 3 (ipykernel)",
   "language": "python",
   "name": "python3"
  },
  "language_info": {
   "codemirror_mode": {
    "name": "ipython",
    "version": 3
   },
   "file_extension": ".py",
   "mimetype": "text/x-python",
   "name": "python",
   "nbconvert_exporter": "python",
   "pygments_lexer": "ipython3",
   "version": "3.9.12"
  }
 },
 "nbformat": 4,
 "nbformat_minor": 5
}
